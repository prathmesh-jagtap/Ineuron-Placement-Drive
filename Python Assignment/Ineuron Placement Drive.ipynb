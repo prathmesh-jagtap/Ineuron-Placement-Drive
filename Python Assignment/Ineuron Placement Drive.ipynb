{
 "cells": [
  {
   "cell_type": "markdown",
   "id": "9ed52412",
   "metadata": {},
   "source": [
    "# <center>Ineuron Mock Screening Assignment</center>"
   ]
  },
  {
   "cell_type": "markdown",
   "id": "89c55d94",
   "metadata": {},
   "source": [
    "## Python Screening Assignment"
   ]
  },
  {
   "cell_type": "markdown",
   "id": "36c9d3de",
   "metadata": {},
   "source": [
    "#### `1. Create a function in python to read the text file and replace specific content of the file.`\n",
    "\n",
    "| File name || example.txt |\n",
    "|:-----||:-----|\n",
    "| Origin file content || This is a placement assignment |\n",
    "| Replace string || Placement should be replaced by screening. |\n",
    "| Replaced file content || This is a screening assignmentm |"
   ]
  },
  {
   "cell_type": "code",
   "execution_count": 12,
   "id": "45acea9a",
   "metadata": {},
   "outputs": [
    {
     "data": {
      "text/plain": [
       "'File Updated'"
      ]
     },
     "execution_count": 12,
     "metadata": {},
     "output_type": "execute_result"
    }
   ],
   "source": [
    "def text_replace(file_name, search_text, replace_text):\n",
    "    \"\"\"This function used to remove the seach string from file content\n",
    "    \n",
    "    Argumrnts:-\n",
    "    file_name(string): name of text file\n",
    "    search_text(string): text which we want to replace\n",
    "    replace_text(string): text which replace search text\n",
    "    \n",
    "    returns:- file uodate massage \"\"\"\n",
    "    try:\n",
    "        with open(file_name, 'r') as file:\n",
    "            content = file.read()\n",
    "            content = content.replace(search_text, replace_text)\n",
    "\n",
    "        with open(file_name, 'w') as file:\n",
    "            file.write(content)\n",
    "            file.close()\n",
    "        return \"File Updated\"\n",
    "    \n",
    "    except Exception as e:\n",
    "        return e\n",
    "\n",
    "# creating a variable and storing the text\n",
    "# that we want to search\n",
    "search_text = \"placement\"\n",
    "\n",
    "# creating a variable and storing the text\n",
    "# that we want to add\n",
    "replace_text = \"screening\"\n",
    "\n",
    "text_replace(\"example.txt\", search_text, replace_text)"
   ]
  },
  {
   "cell_type": "markdown",
   "id": "42201991",
   "metadata": {},
   "source": [
    "#### `2. Demonstrate use of abstract class, multiple inheritance and decorator in python using examples.`"
   ]
  },
  {
   "cell_type": "markdown",
   "id": "9e27b99b",
   "metadata": {},
   "source": [
    "### Decoractor "
   ]
  },
  {
   "cell_type": "code",
   "execution_count": 17,
   "id": "865d3f11",
   "metadata": {},
   "outputs": [
    {
     "name": "stdout",
     "output_type": "stream",
     "text": [
      "Run time is 5.33 secs\n"
     ]
    }
   ],
   "source": [
    "# Example of decoractor\n",
    "\n",
    "def timer(func):\n",
    "    '''This functions takes another function as arguemnts and help to knwo the runtime of our program\n",
    "    by calling is as a decorator\n",
    "    \n",
    "    Arguments :\n",
    "    func : funtion which we want to know runtime\n",
    "    \n",
    "    Returns:\n",
    "    It returns inner function when calling.\n",
    "    '''\n",
    "    import time \n",
    "    def inner():\n",
    "        start = time.time()\n",
    "        func()\n",
    "        end = time.time()\n",
    "        print(f\"Run time is {end - start:.2f} secs\")\n",
    "    return inner\n",
    "\n",
    "# calling decorator\n",
    "@timer\n",
    "def range_tracker():\n",
    "    List = []\n",
    "    for i in range(10000000):\n",
    "        List.append(i**2)\n",
    "\n",
    "range_tracker()"
   ]
  },
  {
   "cell_type": "markdown",
   "id": "9308afd7",
   "metadata": {},
   "source": [
    "### Abstract Class"
   ]
  },
  {
   "cell_type": "code",
   "execution_count": 41,
   "id": "80d7c045",
   "metadata": {},
   "outputs": [
    {
     "name": "stdout",
     "output_type": "stream",
     "text": [
      "['this', 'is', 'a', 'test', 'of', 'the', 'abstract', 'class', 'and', 'inheritance']\n",
      "Number of words: 10\n",
      "Number of words starting with \"t\": 3\n",
      "Number of 4-letter words: 2\n"
     ]
    }
   ],
   "source": [
    "# Exmaple of Abstract class and Inheritance\n",
    "from abc import ABC, abstractmethod\n",
    "from string import punctuation\n",
    "\n",
    "class Analyzer(ABC):\n",
    "    '''This is our abstract class which contain abstract method\n",
    "    in this we construct a string variable as argument'''\n",
    "    def __init__(self, s):\n",
    "        for c in punctuation:\n",
    "            s = s.replace(c,'')\n",
    "            s = s.lower()\n",
    "            self.words = s.split()\n",
    "    \n",
    "    @abstractmethod\n",
    "    def number_of_words(self):\n",
    "        '''This is our abstractmethod which hides it implemntation or its instantiation.'''\n",
    "        print(\"No of words :\", len(self.words))\n",
    "\n",
    "# now make another class for creating object for parent class or abstract class\n",
    "class Word_analyzer(Analyzer):\n",
    "    '''This class is inherits all the property from Analyzer class and also helps to instantiate object\n",
    "    for abstract class'''\n",
    "    \n",
    "    def __init__(self, s):\n",
    "        Analyzer.__init__(self, s)\n",
    "    \n",
    "    def number_of_words(self):\n",
    "        '''This method gives the lenght of words'''\n",
    "        return len(self.words)\n",
    "        \n",
    "    def starts_with(self, s):\n",
    "        '''This methods gives the number of words which is starting from given string'''\n",
    "        return len([w for w in self.words if w[:len(s)]==s])\n",
    "    \n",
    "    def number_with_length(self, n):\n",
    "        '''This method tells how many number of words contain n number of letters'''\n",
    "        return len([w for w in self.words if len(w)==n])\n",
    "\n",
    "s = 'This is a test of the abstract class and inheritance.'\n",
    "analyzer = Word_analyzer(s)\n",
    "print(analyzer.words)\n",
    "print('Number of words:', analyzer.number_of_words())\n",
    "print('Number of words starting with \"t\":', analyzer.starts_with('t'))\n",
    "print('Number of 4-letter words:', analyzer.number_with_length(4))        "
   ]
  },
  {
   "cell_type": "markdown",
   "id": "010ece16",
   "metadata": {},
   "source": [
    "### Multiple Inheritance"
   ]
  },
  {
   "cell_type": "code",
   "execution_count": 101,
   "id": "e1b65349",
   "metadata": {},
   "outputs": [
    {
     "name": "stdout",
     "output_type": "stream",
     "text": [
      "500 INR into USD = 38910.0\n",
      "500 CA into USD = 635.0\n",
      "100 CA to INR into USD = 6100\n"
     ]
    }
   ],
   "source": [
    "class Country:\n",
    "    '''This is base class which contain country currency value'''\n",
    "\n",
    "    def __init__(self, name, amount):\n",
    "        self.name = name\n",
    "        self.amount = amount\n",
    "    \n",
    "    def __str__(self):\n",
    "        return \"{} {} into USD =\".format(self.amount, self.name)\n",
    "               \n",
    "class USD_to_INR(Country):\n",
    "    '''This is derived class from Country class which convert US dollors into indian rupees\n",
    "    Returns: Indian Rupees'''\n",
    "    \n",
    "    INR = 77.82\n",
    "    def convert(self):\n",
    "        return  USD_to_INR.INR * self.amount\n",
    "\n",
    "class USD_to_CA(Country):\n",
    "    '''This is derived class from Country class which convert US dollors into Canadian dollors\n",
    "    Returns: Canadian dollors'''\n",
    "    \n",
    "    CA = 1.27\n",
    "    def convert(self):\n",
    "        return USD_to_CA.CA * self.amount\n",
    "    \n",
    "class CA_to_INR(USD_to_INR, USD_to_CA):\n",
    "    '''This is derived class from both USD_to_INR and USD_to_CA class which convert Canadian dollors\n",
    "    into Indian Rupees\n",
    "    Returns: Canadian dollors'''\n",
    "    def convert(self):\n",
    "        return int(USD_to_INR.INR / USD_to_CA.CA) * self.amount\n",
    "\n",
    "# Creating object for USD_to_INR class\n",
    "India = USD_to_INR('INR', 500)\n",
    "print(India, India.convert())\n",
    "\n",
    "# Creating object for USD_to_CA class\n",
    "Canada = USD_to_CA('CA', 500)\n",
    "print(Canada, Canada.convert())\n",
    "\n",
    "# Creating object for CA_to_INR class\n",
    "Ca_to_Inr = CA_to_INR(\"CA to INR\", 100)\n",
    "print(Ca_to_Inr, Ca_to_Inr.convert())"
   ]
  },
  {
   "cell_type": "code",
   "execution_count": null,
   "id": "d2d72891",
   "metadata": {},
   "outputs": [],
   "source": []
  }
 ],
 "metadata": {
  "kernelspec": {
   "display_name": "Python 3",
   "language": "python",
   "name": "python3"
  },
  "language_info": {
   "codemirror_mode": {
    "name": "ipython",
    "version": 3
   },
   "file_extension": ".py",
   "mimetype": "text/x-python",
   "name": "python",
   "nbconvert_exporter": "python",
   "pygments_lexer": "ipython3",
   "version": "3.8.5"
  }
 },
 "nbformat": 4,
 "nbformat_minor": 5
}
